{
 "cells": [
  {
   "cell_type": "markdown",
   "id": "2868e5ea",
   "metadata": {},
   "source": [
    "# WULPUS Pro Power Consumption vs Frame Rate"
   ]
  },
  {
   "cell_type": "code",
   "execution_count": null,
   "id": "38248630",
   "metadata": {},
   "outputs": [],
   "source": [
    "%matplotlib widget\n",
    "import ipywidgets as widgets\n",
    "import matplotlib.pyplot as plt\n",
    "import numpy as np"
   ]
  },
  {
   "cell_type": "markdown",
   "id": "4b7d3ac9",
   "metadata": {},
   "source": [
    "## Configuration"
   ]
  },
  {
   "cell_type": "markdown",
   "id": "2e5d9980",
   "metadata": {},
   "source": [
    "### RX/TX Configurations"
   ]
  },
  {
   "cell_type": "code",
   "execution_count": null,
   "id": "14b11667",
   "metadata": {},
   "outputs": [],
   "source": [
    "from wulpus.rx_tx_conf_pro import WulpusProRxTxConfigGen\n",
    "\n",
    "# TX and RX active channels IDs\n",
    "conf_gen = WulpusProRxTxConfigGen()\n",
    "\n",
    "# # The first array is a set of TX chanels, the second one - RX.\n",
    "conf_gen.add_config([i for i in range(16)], [i for i in range(15)])"
   ]
  },
  {
   "cell_type": "markdown",
   "id": "ef103640",
   "metadata": {},
   "source": [
    "### USS Configuration"
   ]
  },
  {
   "cell_type": "code",
   "execution_count": null,
   "id": "26419cf8",
   "metadata": {},
   "outputs": [],
   "source": [
    "from wulpus.uss_conf_pro import WulpusProUssConfig\n",
    "from wulpus.uss_conf_gui_pro import WulpusProUssConfigGUI\n",
    "\n",
    "# Get TX/RX configurations\n",
    "tx_confs = conf_gen.get_tx_configs()\n",
    "rx_confs = conf_gen.get_rx_configs()\n",
    "\n",
    "# Create US subsystem configuration using the GUI\n",
    "uss_conf = WulpusProUssConfig(num_txrx_configs=len(tx_confs), tx_configs=tx_confs, rx_configs=rx_confs)\n",
    "uss_conf = WulpusProUssConfigGUI(uss_conf)\n",
    "\n",
    "# Load settings from a file\n",
    "uss_conf.with_file('uss_config_pro.json')\n",
    "\n",
    "display(uss_conf)"
   ]
  },
  {
   "cell_type": "markdown",
   "id": "58156a26",
   "metadata": {},
   "source": [
    "## Acquisition"
   ]
  },
  {
   "cell_type": "markdown",
   "id": "a35ddf38",
   "metadata": {},
   "source": [
    "### Connection"
   ]
  },
  {
   "cell_type": "code",
   "execution_count": null,
   "id": "a1d75de2",
   "metadata": {},
   "outputs": [],
   "source": [
    "# from wulpus.dongle import WulpusDongle\n",
    "\n",
    "# Create a dongle object\n",
    "# dongle = WulpusDongle()\n",
    "\n",
    "from wulpus.wifi import WulpusWiFi\n",
    "\n",
    "dongle = WulpusWiFi()"
   ]
  },
  {
   "cell_type": "markdown",
   "id": "250c7a75",
   "metadata": {},
   "source": [
    "### Run GUI"
   ]
  },
  {
   "cell_type": "code",
   "execution_count": null,
   "id": "efbda2f1",
   "metadata": {},
   "outputs": [],
   "source": [
    "from wulpus.gui import WulpusGuiSingleCh\n",
    "\n",
    "# If a previous GUI exists, close it's COM first before creating a new one\n",
    "if 'gui' in globals() and gui.port_opened: # type: ignore  # noqa: F821\n",
    "    gui.com_link.close() # type: ignore  # noqa: F821\n",
    "\n",
    "# Create a GUI\n",
    "gui = WulpusGuiSingleCh(dongle, uss_conf, max_vis_fps=20)\n",
    "\n",
    "display(gui)"
   ]
  },
  {
   "cell_type": "markdown",
   "id": "8bc99925",
   "metadata": {},
   "source": [
    "## Results"
   ]
  },
  {
   "cell_type": "code",
   "execution_count": null,
   "id": "5ef4dd08",
   "metadata": {},
   "outputs": [],
   "source": [
    "test_fr =          np.array([10, 20, 50, 75, 100, 150, 200, 250, 300])\n",
    "test_cons_hv_mw =  np.array([7,  12, 15, 17, 18,  20,  22,  23,  25])\n",
    "test_cons_msp_mw = np.array([6,  6,  6,  7,  7,   8,   9,   10,  11])\n",
    "test_cons_rx_mw =  np.array([1,  2,  5,  7,  10,  14,  19,  22,  28])\n",
    "test_cons_esp_ma = np.array([65, 76, 83, 85, 86,  88,  90,  93,  95])"
   ]
  },
  {
   "cell_type": "code",
   "execution_count": null,
   "id": "d6b74cd2",
   "metadata": {},
   "outputs": [],
   "source": [
    "# Create figure with IEEE column width (~3.5 inches) and custom style\n",
    "with plt.style.context({\n",
    "    'font.family': 'Times New Roman',  # Specify exact font\n",
    "    'font.size': 10,                   # Slightly larger base font\n",
    "    'axes.labelsize': 10,\n",
    "    'axes.titlesize': 10,\n",
    "    'xtick.labelsize': 9,\n",
    "    'ytick.labelsize': 9,\n",
    "    'legend.fontsize': 9\n",
    "}):\n",
    "    # Create figure\n",
    "    plt.figure(figsize=(3.5, 2.5), dpi=300)\n",
    "\n",
    "    # Create stacked bar plot with wider bars (width=8)\n",
    "    plt.bar(test_fr, test_cons_hv_mw, label='HV', color='#0072BD', width=8, zorder=5)\n",
    "    plt.bar(test_fr, test_cons_msp_mw, bottom=test_cons_hv_mw, \n",
    "            label='MSP', color='#D95319', width=8, zorder=5)\n",
    "    plt.bar(test_fr, test_cons_rx_mw, \n",
    "            bottom=test_cons_hv_mw + test_cons_msp_mw,\n",
    "            label='RX', color='#77AC30', width=8, zorder=5)\n",
    "\n",
    "    # Customize axes\n",
    "    plt.xlabel('Frame Rate [FPS]')\n",
    "    plt.ylabel('Power Consumption [mW]')\n",
    "    plt.grid(True, linestyle='--', alpha=0.7, axis='y', zorder=0)\n",
    "\n",
    "    # Add legend with professional styling\n",
    "    plt.legend(frameon=True, edgecolor='black', fancybox=False,\n",
    "              ncol=1, columnspacing=1)\n",
    "\n",
    "    # Adjust layout\n",
    "    plt.tight_layout()\n",
    "    plt.savefig('figures/power_fps_bars.svg')\n",
    "    plt.show()"
   ]
  },
  {
   "cell_type": "code",
   "execution_count": null,
   "id": "83e2cc3e",
   "metadata": {},
   "outputs": [],
   "source": [
    "# Create figure with IEEE column width (~3.5 inches) and custom style\n",
    "with plt.style.context({\n",
    "    'font.family': 'Times New Roman',  # Specify exact font\n",
    "    'font.size': 10,                   # Slightly larger base font\n",
    "    'axes.labelsize': 10,\n",
    "    'axes.titlesize': 10,\n",
    "    'xtick.labelsize': 9,\n",
    "    'ytick.labelsize': 9,\n",
    "    'legend.fontsize': 9\n",
    "}):\n",
    "    # Create figure\n",
    "    plt.figure(figsize=(3.5, 2.5), dpi=300)\n",
    "    \n",
    "    # Plot ESP32 power consumption\n",
    "    plt.plot(test_fr, np.array(test_cons_esp_ma) * 3.3, \n",
    "            marker='o', color='#EDB120', linewidth=2, \n",
    "            markersize=5, zorder=5)\n",
    "\n",
    "    # Customize axes\n",
    "    plt.xlabel('Frame Rate [FPS]')\n",
    "    plt.ylabel('Power Consumption [mW]')\n",
    "    plt.grid(True, linestyle='--', alpha=0.7, zorder=0)\n",
    "\n",
    "    # Adjust layout\n",
    "    plt.tight_layout()\n",
    "    plt.savefig('figures/esp32_power_fps.svg')\n",
    "    plt.show()"
   ]
  },
  {
   "cell_type": "markdown",
   "id": "f2357c7e",
   "metadata": {},
   "source": [
    "```license\n",
    "Copyright (C) 2025 ETH Zurich. All rights reserved.\n",
    "Author: Sergei Vostrikov, ETH Zurich\n",
    "       Cedric Hirschi, ETH Zurich\n",
    "Licensed under the Apache License, Version 2.0 (the \"License\");\n",
    "you may not use this file except in compliance with the License.\n",
    "You may obtain a copy of the License at\n",
    "   http://www.apache.org/licenses/LICENSE-2.0\n",
    "Unless required by applicable law or agreed to in writing, software\n",
    "distributed under the License is distributed on an \"AS IS\" BASIS,\n",
    "WITHOUT WARRANTIES OR CONDITIONS OF ANY KIND, either express or implied.\n",
    "See the License for the specific language governing permissions and\n",
    "limitations under the License.\n",
    "\n",
    "SPDX-License-Identifier: Apache-2.0\n",
    "```"
   ]
  }
 ],
 "metadata": {
  "kernelspec": {
   "display_name": ".venv",
   "language": "python",
   "name": "python3"
  },
  "language_info": {
   "codemirror_mode": {
    "name": "ipython",
    "version": 3
   },
   "file_extension": ".py",
   "mimetype": "text/x-python",
   "name": "python",
   "nbconvert_exporter": "python",
   "pygments_lexer": "ipython3",
   "version": "3.9.20"
  }
 },
 "nbformat": 4,
 "nbformat_minor": 5
}
