{
 "cells": [
  {
   "cell_type": "code",
   "execution_count": null,
   "id": "050accf4",
   "metadata": {},
   "outputs": [],
   "source": [
    "\"\"\"\n",
    "   Copyright (C) 2024 ETH Zurich. All rights reserved.\n",
    "   Author: Sergei Vostrikov, ETH Zurich\n",
    "           Cedric Hirschi, ETH Zurich\n",
    "   Licensed under the Apache License, Version 2.0 (the \"License\");\n",
    "   you may not use this file except in compliance with the License.\n",
    "   You may obtain a copy of the License at\n",
    "       http://www.apache.org/licenses/LICENSE-2.0\n",
    "   Unless required by applicable law or agreed to in writing, software\n",
    "   distributed under the License is distributed on an \"AS IS\" BASIS,\n",
    "   WITHOUT WARRANTIES OR CONDITIONS OF ANY KIND, either express or implied.\n",
    "   See the License for the specific language governing permissions and\n",
    "   limitations under the License.\n",
    "\n",
    "   SPDX-License-Identifier: Apache-2.0\n",
    "\"\"\""
   ]
  },
  {
   "cell_type": "markdown",
   "id": "92c90838",
   "metadata": {},
   "source": [
    "# If you are not familiar with Jupyter Notebooks, please first check online tutorials such as https://realpython.com/jupyter-notebook-introduction/#creating-a-notebook"
   ]
  },
  {
   "cell_type": "code",
   "execution_count": 2,
   "id": "38248630",
   "metadata": {},
   "outputs": [],
   "source": [
    "%matplotlib widget\n",
    "import ipywidgets as widgets\n",
    "import matplotlib.pyplot as plt\n",
    "import numpy as np"
   ]
  },
  {
   "cell_type": "markdown",
   "id": "8304d151",
   "metadata": {},
   "source": [
    "### Test of Matplotlib Widget Backend"
   ]
  },
  {
   "cell_type": "code",
   "execution_count": null,
   "id": "a804099f",
   "metadata": {},
   "outputs": [],
   "source": [
    "import matplotlib.pyplot as plt\n",
    "\n",
    "plt.plot([[1, 2], [0, 0]])"
   ]
  },
  {
   "cell_type": "markdown",
   "id": "ce4b17cd",
   "metadata": {},
   "source": [
    "#### If you do not see a figure above,  try to restart the kernel.\n",
    "#### If it does not help, check the installation of **ipympl** library."
   ]
  },
  {
   "cell_type": "markdown",
   "id": "d928ac55",
   "metadata": {},
   "source": [
    "## Run WULPUS GUI Demo"
   ]
  },
  {
   "cell_type": "markdown",
   "id": "ca110816",
   "metadata": {},
   "source": [
    "## Prepare TX/RX configurations for WULPUS"
   ]
  },
  {
   "cell_type": "markdown",
   "id": "f4965624",
   "metadata": {},
   "source": [
    "### Either use the dedicated TX//RX GUI"
   ]
  },
  {
   "cell_type": "code",
   "execution_count": 4,
   "id": "c8caa750",
   "metadata": {
    "scrolled": true
   },
   "outputs": [],
   "source": [
    "# import wulpus.rx_tx_conf_gui as conf_gui\n",
    "\n",
    "# # Generate Transmit/Receive configs using the GUI\n",
    "# conf_gen = conf_gui.WulpusRxTxConfigGenGUI()\n",
    "\n",
    "# display(conf_gen)"
   ]
  },
  {
   "cell_type": "markdown",
   "id": "6da4fd6a",
   "metadata": {},
   "source": [
    "### Or use the Python API"
   ]
  },
  {
   "cell_type": "markdown",
   "id": "2e5d9980",
   "metadata": {},
   "source": [
    "#### By configuring the TX/RX channels manually"
   ]
  },
  {
   "cell_type": "code",
   "execution_count": 5,
   "id": "14b11667",
   "metadata": {},
   "outputs": [],
   "source": [
    "from wulpus.rx_tx_conf_pro import WulpusProRxTxConfigGen\n",
    "\n",
    "# COMMENT THE CODE IN THIS CELL WHEN USING TX/RX GUI \n",
    "\n",
    "# TX and RX active channels IDs\n",
    "conf_gen = WulpusProRxTxConfigGen()\n",
    "\n",
    "# # The first array is a set of TX chanels, the second one - RX.\n",
    "conf_gen.add_config([i for i in range(16)], [i for i in range(15)])"
   ]
  },
  {
   "cell_type": "markdown",
   "id": "b5d9e9f4",
   "metadata": {},
   "source": [
    "#### Or loading the the TX/RX config from the file"
   ]
  },
  {
   "cell_type": "code",
   "execution_count": 6,
   "id": "8f879ad2",
   "metadata": {},
   "outputs": [],
   "source": [
    "import wulpus.rx_tx_conf_gui as conf_gui\n",
    "\n",
    "# # load configurations directly from a file\n",
    "\n",
    "# conf_gen = conf_gui.WulpusRxTxConfigGenGUI()\n",
    "# tx_confs = conf_gen.with_file(\"tx_rx_configs.json\").get_tx_configs()\n",
    "# rx_confs = conf_gen.with_file(\"tx_rx_configs.json\").get_rx_configs()"
   ]
  },
  {
   "cell_type": "markdown",
   "id": "ef103640",
   "metadata": {},
   "source": [
    "## Prepare Ultrasound Subsystem configuration for WULPUS\n",
    " (Manually or by loading it from a file)"
   ]
  },
  {
   "cell_type": "code",
   "execution_count": null,
   "id": "26419cf8",
   "metadata": {},
   "outputs": [],
   "source": [
    "from wulpus.uss_conf_pro import WulpusProUssConfig, PGA_GAIN\n",
    "from wulpus.uss_conf_gui_pro import WulpusProUssConfigGUI\n",
    "\n",
    "# Get TX/RX configurations\n",
    "tx_confs = conf_gen.get_tx_configs()\n",
    "rx_confs = conf_gen.get_rx_configs()\n",
    "\n",
    "print('TX config: ', np.binary_repr(tx_confs[0]))\n",
    "print('RX config: ', np.binary_repr(rx_confs[0]))\n",
    "\n",
    "# Create US subsystem configuration\n",
    "uss_conf = WulpusProUssConfig(num_acqs=100,\n",
    "                           dcdc_turnon=100,\n",
    "                           start_hvmuxrx=500,\n",
    "                           meas_period=321965,\n",
    "                           num_txrx_configs=len(tx_confs),\n",
    "                           tx_configs=tx_confs,\n",
    "                           rx_configs=rx_confs,\n",
    "                           rx_gain=PGA_GAIN[12],\n",
    "                           trans_freq=2250000,\n",
    "                           num_pulses=2,\n",
    "                           sampling_freq=8000000)\n",
    "\n",
    "# Modify US subsystem configuration using the GUI\n",
    "uss_conf = WulpusProUssConfigGUI(uss_conf)\n",
    "\n",
    "# Or Load settings from a file\n",
    "uss_conf.with_file('uss_config_pro.json')\n",
    "\n",
    "print(\"Gain dB: \", uss_conf.rx_gain)\n",
    "\n",
    "display(uss_conf)"
   ]
  },
  {
   "cell_type": "markdown",
   "id": "58156a26",
   "metadata": {},
   "source": [
    "### Initialize a connection\n",
    "\n",
    "We initialize a `WulpusDongle` object here such that it can run independently from the GUI."
   ]
  },
  {
   "cell_type": "code",
   "execution_count": null,
   "id": "865bfdc9",
   "metadata": {},
   "outputs": [],
   "source": [
    "from wulpus.scanner import WulpusScanner\n",
    "import sys\n",
    "import zeroconf\n",
    "\n",
    "print(sys.version)\n",
    "print(zeroconf.__version__)\n",
    "\n",
    "print(WulpusScanner().find())"
   ]
  },
  {
   "cell_type": "code",
   "execution_count": 9,
   "id": "a1d75de2",
   "metadata": {},
   "outputs": [],
   "source": [
    "# from wulpus.dongle import WulpusDongle\n",
    "\n",
    "# Create a dongle object\n",
    "# dongle = WulpusDongle()\n",
    "\n",
    "from wulpus.wifi import WulpusWiFi\n",
    "\n",
    "dongle = WulpusWiFi()"
   ]
  },
  {
   "cell_type": "code",
   "execution_count": null,
   "id": "a1fcefcd",
   "metadata": {},
   "outputs": [],
   "source": [
    "dongle.get_available()"
   ]
  },
  {
   "cell_type": "markdown",
   "id": "250c7a75",
   "metadata": {},
   "source": [
    "### Run GUI \n",
    "(Check the WULPUS user manual (chapter 3 and 4) for more information)"
   ]
  },
  {
   "cell_type": "code",
   "execution_count": null,
   "id": "efbda2f1",
   "metadata": {},
   "outputs": [],
   "source": [
    "%matplotlib widget\n",
    "from wulpus.gui import WulpusGuiSingleCh\n",
    "\n",
    "# Create a GUI\n",
    "try:\n",
    "    # Check if the GUI object already exists\n",
    "    gui\n",
    "except NameError:\n",
    "    # Does not exist. Create a new GUI\n",
    "    gui = WulpusGuiSingleCh(dongle, uss_conf, max_vis_fps = 20)\n",
    "else:\n",
    "    # Exist. First, close the COM port and then create a new GUI\n",
    "    if gui.port_opened:\n",
    "        gui.com_link.close()\n",
    "    gui = WulpusGuiSingleCh(dongle, uss_conf, max_vis_fps = 20)\n",
    "\n",
    "display(gui)"
   ]
  },
  {
   "cell_type": "markdown",
   "id": "7598496b",
   "metadata": {},
   "source": [
    "## Loading and interpreting the saved data"
   ]
  },
  {
   "cell_type": "markdown",
   "id": "19ce6842",
   "metadata": {},
   "source": [
    "The data is saved in a `.npz` file. This is a compressed file format that can be used with the `numpy` library.\n",
    "\n",
    "Explore an example below to learn how to load and interpret the data."
   ]
  },
  {
   "cell_type": "code",
   "execution_count": null,
   "id": "6e65c319",
   "metadata": {},
   "outputs": [],
   "source": [
    "# Data can be loaded as easy as:\n",
    "data = np.load('./data_10.npz')\n",
    "\n",
    "# The keys of the data are:\n",
    "print('Keys:', data.files)"
   ]
  },
  {
   "cell_type": "markdown",
   "id": "687866e5",
   "metadata": {},
   "source": [
    "The structure is a dictionary with the length `num_acquisitions` (Number of acquisitions) and consists of the following keys:\n",
    "\n",
    "**data_arr:** This column actually contains the data, each of length `num_samples` (Number of samples). This can be seen as data for one acquisition.\n",
    "\n",
    "**acq_num_arr:** The sequential number for each acquisition. MSP430 increments this number by 1 every new acquisition, starting from zero. If one number is missing (a step is larger than one), then this acquisition got dropped during the BLE transmission.\n",
    "\n",
    "**tx_rx_id_arr:** The TX/RX configuration ID for the acquisition. This ids  are the same as the ones in the `Active RX ID` dropdown menu in the GUI (the same as Config field in the RX/TX config GUI)."
   ]
  },
  {
   "cell_type": "code",
   "execution_count": null,
   "id": "0b453f1c",
   "metadata": {},
   "outputs": [],
   "source": [
    "# The shape of the data is:\n",
    "print('Data shape:', data['data_arr'].shape)\n",
    "\n",
    "# The unique IDs of the active channels are:\n",
    "print('Unique IDs:', np.unique(data['tx_rx_id_arr']))"
   ]
  },
  {
   "cell_type": "markdown",
   "id": "9f76d3a3",
   "metadata": {},
   "source": [
    "In this example, we have 100 acquisitions, each containing 400 samples. The WULPUS system was connected to the 8 channels of the linear array transducer (2.25 MHz), placed on the forearm, while the proband was performing periodic hand gestures. There was only one TX/RX configuration programmed (config id = 0). With this configuration, 8 channel were used at both transmit and receive. The data was acquired with the settings saved in the files `./examples/tx_rx_configs.json` and `./examples/uss_config.json`.\n",
    "\n",
    "Since the `data_arr` is a bit awkward to use in this form (`(400, 100)`), we transpose it to `(100, 400)`."
   ]
  },
  {
   "cell_type": "code",
   "execution_count": null,
   "id": "516ddc22",
   "metadata": {},
   "outputs": [],
   "source": [
    "# Transpose the data such that we can index via time\n",
    "data_meas = data['data_arr'].T\n",
    "\n",
    "# The shape of the data is:\n",
    "print('Data shape:', data_meas.shape)"
   ]
  },
  {
   "cell_type": "markdown",
   "id": "21cad09e",
   "metadata": {},
   "source": [
    "The data can then be easily used further, for example to just make a plot of one acquisition. \n",
    "\n",
    "As a general example, we show how to select the data only for the TX/RX config with an ID **n = 0**."
   ]
  },
  {
   "cell_type": "code",
   "execution_count": null,
   "id": "46422e6f",
   "metadata": {},
   "outputs": [],
   "source": [
    "channel_id = 0\n",
    "\n",
    "data_sel = data_meas[data['tx_rx_id_arr'] == channel_id, :]"
   ]
  },
  {
   "cell_type": "code",
   "execution_count": null,
   "id": "7f385e3c",
   "metadata": {},
   "outputs": [],
   "source": [
    "data_sel.shape"
   ]
  },
  {
   "cell_type": "markdown",
   "id": "530d78d5",
   "metadata": {},
   "source": [
    "\n",
    "We visualize the data with `matplotlib` and `ipywidgets`.\n",
    "By interacting with the slider, a user can see the data over time."
   ]
  },
  {
   "cell_type": "code",
   "execution_count": null,
   "id": "f29438e0",
   "metadata": {},
   "outputs": [],
   "source": [
    "plt.figure(figsize=(10, 5))\n",
    "plot_data = plt.plot(data_sel[0], linestyle='-', marker='o', linewidth=1, markersize=2)\n",
    "plt.ylim(-2500, 2500)\n",
    "plt.title(f'Acquisition 0/{data_sel.shape[0]}')\n",
    "plt.xlabel('Samples')\n",
    "plt.ylabel('ADC digital code')\n",
    "plt.grid()\n",
    "plt.show()\n",
    "\n",
    "def visualize(frame):\n",
    "    plot_data[0].set_ydata(data_sel[frame])\n",
    "    plt.title(f'Acquisition {frame}/{data_sel.shape[0]}')\n",
    "    plt.draw()\n",
    "\n",
    "widgets.interact(visualize, frame=widgets.IntSlider(min=0, max=data_sel.shape[0]-1, step=1, value=10))"
   ]
  },
  {
   "cell_type": "markdown",
   "id": "a10065e0",
   "metadata": {},
   "source": [
    "A user can further perform band-pass filtering and application-specific processing of the raw data."
   ]
  }
 ],
 "metadata": {
  "kernelspec": {
   "display_name": ".venv",
   "language": "python",
   "name": "python3"
  },
  "language_info": {
   "codemirror_mode": {
    "name": "ipython",
    "version": 3
   },
   "file_extension": ".py",
   "mimetype": "text/x-python",
   "name": "python",
   "nbconvert_exporter": "python",
   "pygments_lexer": "ipython3",
   "version": "3.9.20"
  }
 },
 "nbformat": 4,
 "nbformat_minor": 5
}
